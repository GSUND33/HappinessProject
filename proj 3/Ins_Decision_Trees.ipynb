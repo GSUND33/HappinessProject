{
 "cells": [
  {
   "cell_type": "code",
   "execution_count": null,
   "metadata": {},
   "outputs": [],
   "source": [
    "# pip install pydotplus\n"
   ]
  },
  {
   "cell_type": "code",
   "execution_count": 1,
   "metadata": {},
   "outputs": [],
   "source": [
    "import pandas\n",
    "from sklearn import tree\n",
    "import pydotplus\n",
    "from sklearn.tree import DecisionTreeClassifier\n",
    "import matplotlib.pyplot as plt\n",
    "import matplotlib.image as pltimg"
   ]
  },
  {
   "cell_type": "code",
   "execution_count": 2,
   "metadata": {},
   "outputs": [
    {
     "name": "stdout",
     "output_type": "stream",
     "text": [
      "     Score  Health  Relationship  Beauty  Living  Support  Outcome\n",
      "0        1      10            10      10      10       10        4\n",
      "1        1      10            10      10      10        5        4\n",
      "2        1      10            10      10       5       10        4\n",
      "3        1      10            10       5      10       10        4\n",
      "4        1      10             5      10      10       10        4\n",
      "5        1       5            10      10      10       10        4\n",
      "6        0      10            10      10      10       10        3\n",
      "7        0      10            10      10      10        5        3\n",
      "8        0      10            10      10       5       10        3\n",
      "9        0      10            10       5      10       10        3\n",
      "10       0      10             5      10      10       10        3\n",
      "11       0       5            10      10      10       10        3\n",
      "12       1      10            10      10      10        1        3\n",
      "13       1      10            10      10       5        5        3\n",
      "14       1      10            10      10       5        1        3\n",
      "15       1      10            10      10       1       10        3\n",
      "16       1      10            10      10       1        5        3\n",
      "17       1      10            10       5      10        5        3\n",
      "18       1      10            10       5      10        1        3\n",
      "19       1      10            10       5       5       10        3\n",
      "20       1      10            10       5       5        5        3\n",
      "21       1      10            10       5       1       10        3\n",
      "22       1      10            10       1      10       10        3\n",
      "23       1      10            10       1      10        5        3\n",
      "24       1      10            10       1       5       10        3\n",
      "25       1      10             5      10      10        5        3\n",
      "26       1      10             5      10      10        1        3\n",
      "27       1      10             5      10       5       10        3\n",
      "28       1      10             5      10       5        5        3\n",
      "29       1      10             5      10       1       10        3\n",
      "..     ...     ...           ...     ...     ...      ...      ...\n",
      "402      0       1             5       5       1       10        0\n",
      "403      0       1             5       5       1        5        0\n",
      "404      0       1             5       5       1        1        0\n",
      "405      0       1             5       1      10       10        0\n",
      "406      0       1             5       1      10        5        0\n",
      "407      0       1             5       1      10        1        0\n",
      "408      0       1             5       1       5       10        0\n",
      "409      0       1             5       1       5        5        0\n",
      "410      0       1             5       1       5        1        0\n",
      "411      0       1             5       1       1       10        0\n",
      "412      0       1             5       1       1        5        0\n",
      "413      0       1             5       1       1        1        0\n",
      "414      0       1             1       5      10       10        0\n",
      "415      0       1             1       5      10        5        0\n",
      "416      0       1             1       5      10        1        0\n",
      "417      0       1             1       5       5       10        0\n",
      "418      0       1             1       5       5        5        0\n",
      "419      0       1             1       5       5        1        0\n",
      "420      0       1             1       5       1       10        0\n",
      "421      0       1             1       5       1        5        0\n",
      "422      0       1             1       5       1        1        0\n",
      "423      0       1             1       1      10       10        0\n",
      "424      0       1             1       1      10        5        0\n",
      "425      0       1             1       1      10        1        0\n",
      "426      0       1             1       1       5       10        0\n",
      "427      0       1             1       1       5        5        0\n",
      "428      0       1             1       1       5        1        0\n",
      "429      0       1             1       1       1       10        0\n",
      "430      0       1             1       1       1        5        0\n",
      "431      0       1             1       1       1        1        0\n",
      "\n",
      "[432 rows x 7 columns]\n"
     ]
    }
   ],
   "source": [
    "df = pandas.read_csv(\"mlds.csv\")\n",
    "\n",
    "print(df)"
   ]
  },
  {
   "cell_type": "code",
   "execution_count": 3,
   "metadata": {},
   "outputs": [],
   "source": [
    "import graphviz \n"
   ]
  },
  {
   "cell_type": "code",
   "execution_count": 4,
   "metadata": {},
   "outputs": [
    {
     "name": "stdout",
     "output_type": "stream",
     "text": [
      "     Score  Health  Relationship  Beauty  Living  Support\n",
      "0        1      10            10      10      10       10\n",
      "1        1      10            10      10      10        5\n",
      "2        1      10            10      10       5       10\n",
      "3        1      10            10       5      10       10\n",
      "4        1      10             5      10      10       10\n",
      "5        1       5            10      10      10       10\n",
      "6        0      10            10      10      10       10\n",
      "7        0      10            10      10      10        5\n",
      "8        0      10            10      10       5       10\n",
      "9        0      10            10       5      10       10\n",
      "10       0      10             5      10      10       10\n",
      "11       0       5            10      10      10       10\n",
      "12       1      10            10      10      10        1\n",
      "13       1      10            10      10       5        5\n",
      "14       1      10            10      10       5        1\n",
      "15       1      10            10      10       1       10\n",
      "16       1      10            10      10       1        5\n",
      "17       1      10            10       5      10        5\n",
      "18       1      10            10       5      10        1\n",
      "19       1      10            10       5       5       10\n",
      "20       1      10            10       5       5        5\n",
      "21       1      10            10       5       1       10\n",
      "22       1      10            10       1      10       10\n",
      "23       1      10            10       1      10        5\n",
      "24       1      10            10       1       5       10\n",
      "25       1      10             5      10      10        5\n",
      "26       1      10             5      10      10        1\n",
      "27       1      10             5      10       5       10\n",
      "28       1      10             5      10       5        5\n",
      "29       1      10             5      10       1       10\n",
      "..     ...     ...           ...     ...     ...      ...\n",
      "402      0       1             5       5       1       10\n",
      "403      0       1             5       5       1        5\n",
      "404      0       1             5       5       1        1\n",
      "405      0       1             5       1      10       10\n",
      "406      0       1             5       1      10        5\n",
      "407      0       1             5       1      10        1\n",
      "408      0       1             5       1       5       10\n",
      "409      0       1             5       1       5        5\n",
      "410      0       1             5       1       5        1\n",
      "411      0       1             5       1       1       10\n",
      "412      0       1             5       1       1        5\n",
      "413      0       1             5       1       1        1\n",
      "414      0       1             1       5      10       10\n",
      "415      0       1             1       5      10        5\n",
      "416      0       1             1       5      10        1\n",
      "417      0       1             1       5       5       10\n",
      "418      0       1             1       5       5        5\n",
      "419      0       1             1       5       5        1\n",
      "420      0       1             1       5       1       10\n",
      "421      0       1             1       5       1        5\n",
      "422      0       1             1       5       1        1\n",
      "423      0       1             1       1      10       10\n",
      "424      0       1             1       1      10        5\n",
      "425      0       1             1       1      10        1\n",
      "426      0       1             1       1       5       10\n",
      "427      0       1             1       1       5        5\n",
      "428      0       1             1       1       5        1\n",
      "429      0       1             1       1       1       10\n",
      "430      0       1             1       1       1        5\n",
      "431      0       1             1       1       1        1\n",
      "\n",
      "[432 rows x 6 columns]\n",
      "0      4\n",
      "1      4\n",
      "2      4\n",
      "3      4\n",
      "4      4\n",
      "5      4\n",
      "6      3\n",
      "7      3\n",
      "8      3\n",
      "9      3\n",
      "10     3\n",
      "11     3\n",
      "12     3\n",
      "13     3\n",
      "14     3\n",
      "15     3\n",
      "16     3\n",
      "17     3\n",
      "18     3\n",
      "19     3\n",
      "20     3\n",
      "21     3\n",
      "22     3\n",
      "23     3\n",
      "24     3\n",
      "25     3\n",
      "26     3\n",
      "27     3\n",
      "28     3\n",
      "29     3\n",
      "      ..\n",
      "402    0\n",
      "403    0\n",
      "404    0\n",
      "405    0\n",
      "406    0\n",
      "407    0\n",
      "408    0\n",
      "409    0\n",
      "410    0\n",
      "411    0\n",
      "412    0\n",
      "413    0\n",
      "414    0\n",
      "415    0\n",
      "416    0\n",
      "417    0\n",
      "418    0\n",
      "419    0\n",
      "420    0\n",
      "421    0\n",
      "422    0\n",
      "423    0\n",
      "424    0\n",
      "425    0\n",
      "426    0\n",
      "427    0\n",
      "428    0\n",
      "429    0\n",
      "430    0\n",
      "431    0\n",
      "Name: Outcome, Length: 432, dtype: int64\n"
     ]
    }
   ],
   "source": [
    "features = ['Score', 'Health', 'Relationship', 'Beauty', 'Living', 'Support']\n",
    "\n",
    "X = df[features]\n",
    "y = df['Outcome']\n",
    "\n",
    "print(X)\n",
    "print(y)"
   ]
  },
  {
   "cell_type": "code",
   "execution_count": 5,
   "metadata": {},
   "outputs": [
    {
     "data": {
      "text/plain": [
       "True"
      ]
     },
     "execution_count": 5,
     "metadata": {},
     "output_type": "execute_result"
    }
   ],
   "source": [
    "import pydotplus\n",
    "\n",
    "dtree = DecisionTreeClassifier()\n",
    "dtree = dtree.fit(X, y)\n",
    "data = tree.export_graphviz(dtree, out_file=None, feature_names=features,\n",
    "        filled=True, rounded=True,  \n",
    "        special_characters=True)  \n",
    "graph = pydotplus.graph_from_dot_data(data)\n",
    "graph.write_png('decisiontree.png')\n"
   ]
  },
  {
   "cell_type": "code",
   "execution_count": 6,
   "metadata": {},
   "outputs": [
    {
     "data": {
      "image/png": "[encoded data removed]",
      "text/plain": [
       "<Figure size 432x288 with 1 Axes>"
      ]
     },
     "metadata": {
      "needs_background": "light"
     },
     "output_type": "display_data"
    }
   ],
   "source": [
    "img=pltimg.imread('decisiontree.png')\n",
    "imgplot = plt.imshow(img)\n",
    "plt.show()"
   ]
  },
  {
   "cell_type": "code",
   "execution_count": 7,
   "metadata": {},
   "outputs": [
    {
     "name": "stdout",
     "output_type": "stream",
     "text": [
      "[0]\n"
     ]
    }
   ],
   "source": [
    "print(dtree.predict([[0, 3, 5, 1, 5, 3]]))"
   ]
  },
  {
   "cell_type": "code",
   "execution_count": 8,
   "metadata": {},
   "outputs": [
    {
     "name": "stdout",
     "output_type": "stream",
     "text": [
      "[1]\n"
     ]
    }
   ],
   "source": [
    "print(dtree.predict([[5, 5, 5, 1, 5, 3]]))"
   ]
  },
  {
   "cell_type": "code",
   "execution_count": 9,
   "metadata": {},
   "outputs": [
    {
     "name": "stdout",
     "output_type": "stream",
     "text": [
      "[1]\n"
     ]
    }
   ],
   "source": [
    "print(dtree.predict([[5, 1, 3, 1, 5, 3]]))"
   ]
  },
  {
   "cell_type": "code",
   "execution_count": 10,
   "metadata": {},
   "outputs": [
    {
     "name": "stdout",
     "output_type": "stream",
     "text": [
      "[1]\n"
     ]
    }
   ],
   "source": [
    "print(dtree.predict([[5, 1, 1, 1, 3, 3]]))"
   ]
  },
  {
   "cell_type": "code",
   "execution_count": 11,
   "metadata": {},
   "outputs": [
    {
     "name": "stdout",
     "output_type": "stream",
     "text": [
      "[0]\n"
     ]
    }
   ],
   "source": [
    "print(dtree.predict([[0, 5, 5, 5, 5, 5]]))"
   ]
  },
  {
   "cell_type": "code",
   "execution_count": null,
   "metadata": {},
   "outputs": [],
   "source": []
  }
 ],
 "metadata": {
  "kernelspec": {
   "display_name": "Python 3",
   "language": "python",
   "name": "python3"
  },
  "language_info": {
   "codemirror_mode": {
    "name": "ipython",
    "version": 3
   },
   "file_extension": ".py",
   "mimetype": "text/x-python",
   "name": "python",
   "nbconvert_exporter": "python",
   "pygments_lexer": "ipython3",
   "version": "3.7.3"
  },
  "varInspector": {
   "cols": {
    "lenName": 16,
    "lenType": 16,
    "lenVar": 40
   },
   "kernels_config": {
    "python": {
     "delete_cmd_postfix": "",
     "delete_cmd_prefix": "del ",
     "library": "var_list.py",
     "varRefreshCmd": "print(var_dic_list())"
    },
    "r": {
     "delete_cmd_postfix": ") ",
     "delete_cmd_prefix": "rm(",
     "library": "var_list.r",
     "varRefreshCmd": "cat(var_dic_list()) "
    }
   },
   "types_to_exclude": [
    "module",
    "function",
    "builtin_function_or_method",
    "instance",
    "_Feature"
   ],
   "window_display": false
  }
 },
 "nbformat": 4,
 "nbformat_minor": 2
}
