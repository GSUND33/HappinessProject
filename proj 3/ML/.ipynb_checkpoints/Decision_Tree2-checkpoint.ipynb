{
 "cells": [
  {
   "cell_type": "code",
   "execution_count": 1,
   "metadata": {},
   "outputs": [],
   "source": [
    "# pip install pydotplus\n"
   ]
  },
  {
   "cell_type": "code",
   "execution_count": 2,
   "metadata": {},
   "outputs": [],
   "source": [
    "import pandas\n",
    "from sklearn import tree\n",
    "import graphviz \n",
    "import pydotplus\n",
    "from sklearn.tree import DecisionTreeClassifier\n",
    "import matplotlib.pyplot as plt\n",
    "import matplotlib.image as pltim"
   ]
  },
  {
   "cell_type": "code",
   "execution_count": 3,
   "metadata": {},
   "outputs": [
    {
     "name": "stdout",
     "output_type": "stream",
     "text": [
      "    Needs  Belonging  Fulfillment  Accomplishment  Safety  Score  Outcome\n",
      "0    10.0         10          NaN             NaN    10.0      0        3\n",
      "1    10.0         10          NaN             NaN     5.0      0        0\n",
      "2    10.0         10          NaN             NaN     1.0      0        0\n",
      "3    10.0          5          NaN             NaN    10.0      0        0\n",
      "4    10.0          5          NaN             NaN     5.0      0        0\n",
      "5    10.0          5          NaN             NaN     1.0      0        0\n",
      "6    10.0          1          NaN             NaN    10.0      0        0\n",
      "7    10.0          1          NaN             NaN     5.0      0        0\n",
      "8    10.0          1          NaN             NaN     1.0      0        0\n",
      "9     5.0         10          NaN             NaN    10.0      0        2\n",
      "10    5.0         10          NaN             NaN     5.0      0        0\n",
      "11    5.0         10          NaN             NaN     1.0      0        0\n",
      "12    5.0          5          NaN             NaN    10.0      0        0\n",
      "13    5.0          5          NaN             NaN     5.0      0        0\n",
      "14    5.0          5          NaN             NaN     1.0      0        0\n",
      "15    5.0          1          NaN             NaN    10.0      0        0\n",
      "16    5.0          1          NaN             NaN     5.0      0        0\n",
      "17    5.0          1          NaN             NaN     1.0      0        0\n",
      "18    1.0         10          NaN             NaN    10.0      0        1\n",
      "19    1.0         10          NaN             NaN     5.0      0        1\n",
      "20    1.0         10          NaN             NaN     1.0      0        1\n",
      "21    1.0          5          NaN             NaN    10.0      0        0\n",
      "22    1.0          5          NaN             NaN     5.0      0        0\n",
      "23    1.0          5          NaN             NaN     1.0      0        0\n",
      "24    1.0          1          NaN             NaN    10.0      0        0\n",
      "25    1.0          1          NaN             NaN     5.0      0        0\n",
      "26    1.0          1          NaN             NaN     1.0      0        0\n",
      "27    NaN         10         10.0            10.0     NaN      1        3\n",
      "28    NaN         10         10.0             5.0     NaN      1        1\n",
      "29    NaN         10         10.0             1.0     NaN      1        0\n",
      "30    NaN         10          5.0            10.0     NaN      1        1\n",
      "31    NaN         10          5.0             5.0     NaN      1        0\n",
      "32    NaN         10          5.0             1.0     NaN      1        0\n",
      "33    NaN         10          1.0            10.0     NaN      1        1\n",
      "34    NaN         10          1.0             5.0     NaN      1        0\n",
      "35    NaN         10          1.0             1.0     NaN      1        0\n",
      "36    NaN          5         10.0            10.0     NaN      1        1\n",
      "37    NaN          5         10.0             5.0     NaN      1        0\n",
      "38    NaN          5         10.0             1.0     NaN      1        0\n",
      "39    NaN          5          5.0            10.0     NaN      1        1\n",
      "40    NaN          5          5.0             5.0     NaN      1        1\n",
      "41    NaN          5          5.0             1.0     NaN      1        1\n",
      "42    NaN          5          1.0            10.0     NaN      1        2\n",
      "43    NaN          5          1.0             5.0     NaN      1        1\n",
      "44    NaN          5          1.0             1.0     NaN      1        1\n",
      "45    NaN         10         10.0            10.0     NaN      1        3\n",
      "46    NaN         10         10.0             5.0     NaN      1        1\n",
      "47    NaN         10         10.0             1.0     NaN      1        1\n",
      "48    NaN          1          5.0            10.0     NaN      1        1\n",
      "49    NaN          1          5.0             5.0     NaN      1        1\n",
      "50    NaN          1          5.0             1.0     NaN      1        1\n",
      "51    NaN          1          1.0            10.0     NaN      1        1\n",
      "52    NaN          1          1.0             5.0     NaN      1        1\n",
      "53    NaN          1          1.0             1.0     NaN      1        1\n"
     ]
    }
   ],
   "source": [
    "df = pandas.read_csv(\"mlds-hierarchy.csv\")\n",
    "\n",
    "print(df)"
   ]
  },
  {
   "cell_type": "code",
   "execution_count": 4,
   "metadata": {},
   "outputs": [
    {
     "name": "stdout",
     "output_type": "stream",
     "text": [
      "    Needs  Belonging  Fulfillment  Accomplishment  Safety  Score  Outcome\n",
      "0    10.0         10          0.0             0.0    10.0      0        3\n",
      "1    10.0         10          0.0             0.0     5.0      0        0\n",
      "2    10.0         10          0.0             0.0     1.0      0        0\n",
      "3    10.0          5          0.0             0.0    10.0      0        0\n",
      "4    10.0          5          0.0             0.0     5.0      0        0\n",
      "5    10.0          5          0.0             0.0     1.0      0        0\n",
      "6    10.0          1          0.0             0.0    10.0      0        0\n",
      "7    10.0          1          0.0             0.0     5.0      0        0\n",
      "8    10.0          1          0.0             0.0     1.0      0        0\n",
      "9     5.0         10          0.0             0.0    10.0      0        2\n",
      "10    5.0         10          0.0             0.0     5.0      0        0\n",
      "11    5.0         10          0.0             0.0     1.0      0        0\n",
      "12    5.0          5          0.0             0.0    10.0      0        0\n",
      "13    5.0          5          0.0             0.0     5.0      0        0\n",
      "14    5.0          5          0.0             0.0     1.0      0        0\n",
      "15    5.0          1          0.0             0.0    10.0      0        0\n",
      "16    5.0          1          0.0             0.0     5.0      0        0\n",
      "17    5.0          1          0.0             0.0     1.0      0        0\n",
      "18    1.0         10          0.0             0.0    10.0      0        1\n",
      "19    1.0         10          0.0             0.0     5.0      0        1\n",
      "20    1.0         10          0.0             0.0     1.0      0        1\n",
      "21    1.0          5          0.0             0.0    10.0      0        0\n",
      "22    1.0          5          0.0             0.0     5.0      0        0\n",
      "23    1.0          5          0.0             0.0     1.0      0        0\n",
      "24    1.0          1          0.0             0.0    10.0      0        0\n",
      "25    1.0          1          0.0             0.0     5.0      0        0\n",
      "26    1.0          1          0.0             0.0     1.0      0        0\n",
      "27    0.0         10         10.0            10.0     0.0      1        3\n",
      "28    0.0         10         10.0             5.0     0.0      1        1\n",
      "29    0.0         10         10.0             1.0     0.0      1        0\n",
      "30    0.0         10          5.0            10.0     0.0      1        1\n",
      "31    0.0         10          5.0             5.0     0.0      1        0\n",
      "32    0.0         10          5.0             1.0     0.0      1        0\n",
      "33    0.0         10          1.0            10.0     0.0      1        1\n",
      "34    0.0         10          1.0             5.0     0.0      1        0\n",
      "35    0.0         10          1.0             1.0     0.0      1        0\n",
      "36    0.0          5         10.0            10.0     0.0      1        1\n",
      "37    0.0          5         10.0             5.0     0.0      1        0\n",
      "38    0.0          5         10.0             1.0     0.0      1        0\n",
      "39    0.0          5          5.0            10.0     0.0      1        1\n",
      "40    0.0          5          5.0             5.0     0.0      1        1\n",
      "41    0.0          5          5.0             1.0     0.0      1        1\n",
      "42    0.0          5          1.0            10.0     0.0      1        2\n",
      "43    0.0          5          1.0             5.0     0.0      1        1\n",
      "44    0.0          5          1.0             1.0     0.0      1        1\n",
      "45    0.0         10         10.0            10.0     0.0      1        3\n",
      "46    0.0         10         10.0             5.0     0.0      1        1\n",
      "47    0.0         10         10.0             1.0     0.0      1        1\n",
      "48    0.0          1          5.0            10.0     0.0      1        1\n",
      "49    0.0          1          5.0             5.0     0.0      1        1\n",
      "50    0.0          1          5.0             1.0     0.0      1        1\n",
      "51    0.0          1          1.0            10.0     0.0      1        1\n",
      "52    0.0          1          1.0             5.0     0.0      1        1\n",
      "53    0.0          1          1.0             1.0     0.0      1        1\n"
     ]
    }
   ],
   "source": [
    "df=df.fillna(0)\n",
    "print(df)"
   ]
  },
  {
   "cell_type": "code",
   "execution_count": 5,
   "metadata": {},
   "outputs": [
    {
     "name": "stdout",
     "output_type": "stream",
     "text": [
      "    Score  Needs  Belonging  Fulfillment  Accomplishment  Safety\n",
      "0       0   10.0         10          0.0             0.0    10.0\n",
      "1       0   10.0         10          0.0             0.0     5.0\n",
      "2       0   10.0         10          0.0             0.0     1.0\n",
      "3       0   10.0          5          0.0             0.0    10.0\n",
      "4       0   10.0          5          0.0             0.0     5.0\n",
      "5       0   10.0          5          0.0             0.0     1.0\n",
      "6       0   10.0          1          0.0             0.0    10.0\n",
      "7       0   10.0          1          0.0             0.0     5.0\n",
      "8       0   10.0          1          0.0             0.0     1.0\n",
      "9       0    5.0         10          0.0             0.0    10.0\n",
      "10      0    5.0         10          0.0             0.0     5.0\n",
      "11      0    5.0         10          0.0             0.0     1.0\n",
      "12      0    5.0          5          0.0             0.0    10.0\n",
      "13      0    5.0          5          0.0             0.0     5.0\n",
      "14      0    5.0          5          0.0             0.0     1.0\n",
      "15      0    5.0          1          0.0             0.0    10.0\n",
      "16      0    5.0          1          0.0             0.0     5.0\n",
      "17      0    5.0          1          0.0             0.0     1.0\n",
      "18      0    1.0         10          0.0             0.0    10.0\n",
      "19      0    1.0         10          0.0             0.0     5.0\n",
      "20      0    1.0         10          0.0             0.0     1.0\n",
      "21      0    1.0          5          0.0             0.0    10.0\n",
      "22      0    1.0          5          0.0             0.0     5.0\n",
      "23      0    1.0          5          0.0             0.0     1.0\n",
      "24      0    1.0          1          0.0             0.0    10.0\n",
      "25      0    1.0          1          0.0             0.0     5.0\n",
      "26      0    1.0          1          0.0             0.0     1.0\n",
      "27      1    0.0         10         10.0            10.0     0.0\n",
      "28      1    0.0         10         10.0             5.0     0.0\n",
      "29      1    0.0         10         10.0             1.0     0.0\n",
      "30      1    0.0         10          5.0            10.0     0.0\n",
      "31      1    0.0         10          5.0             5.0     0.0\n",
      "32      1    0.0         10          5.0             1.0     0.0\n",
      "33      1    0.0         10          1.0            10.0     0.0\n",
      "34      1    0.0         10          1.0             5.0     0.0\n",
      "35      1    0.0         10          1.0             1.0     0.0\n",
      "36      1    0.0          5         10.0            10.0     0.0\n",
      "37      1    0.0          5         10.0             5.0     0.0\n",
      "38      1    0.0          5         10.0             1.0     0.0\n",
      "39      1    0.0          5          5.0            10.0     0.0\n",
      "40      1    0.0          5          5.0             5.0     0.0\n",
      "41      1    0.0          5          5.0             1.0     0.0\n",
      "42      1    0.0          5          1.0            10.0     0.0\n",
      "43      1    0.0          5          1.0             5.0     0.0\n",
      "44      1    0.0          5          1.0             1.0     0.0\n",
      "45      1    0.0         10         10.0            10.0     0.0\n",
      "46      1    0.0         10         10.0             5.0     0.0\n",
      "47      1    0.0         10         10.0             1.0     0.0\n",
      "48      1    0.0          1          5.0            10.0     0.0\n",
      "49      1    0.0          1          5.0             5.0     0.0\n",
      "50      1    0.0          1          5.0             1.0     0.0\n",
      "51      1    0.0          1          1.0            10.0     0.0\n",
      "52      1    0.0          1          1.0             5.0     0.0\n",
      "53      1    0.0          1          1.0             1.0     0.0\n",
      "0     3\n",
      "1     0\n",
      "2     0\n",
      "3     0\n",
      "4     0\n",
      "5     0\n",
      "6     0\n",
      "7     0\n",
      "8     0\n",
      "9     2\n",
      "10    0\n",
      "11    0\n",
      "12    0\n",
      "13    0\n",
      "14    0\n",
      "15    0\n",
      "16    0\n",
      "17    0\n",
      "18    1\n",
      "19    1\n",
      "20    1\n",
      "21    0\n",
      "22    0\n",
      "23    0\n",
      "24    0\n",
      "25    0\n",
      "26    0\n",
      "27    3\n",
      "28    1\n",
      "29    0\n",
      "30    1\n",
      "31    0\n",
      "32    0\n",
      "33    1\n",
      "34    0\n",
      "35    0\n",
      "36    1\n",
      "37    0\n",
      "38    0\n",
      "39    1\n",
      "40    1\n",
      "41    1\n",
      "42    2\n",
      "43    1\n",
      "44    1\n",
      "45    3\n",
      "46    1\n",
      "47    1\n",
      "48    1\n",
      "49    1\n",
      "50    1\n",
      "51    1\n",
      "52    1\n",
      "53    1\n",
      "Name: Outcome, dtype: int64\n"
     ]
    }
   ],
   "source": [
    "features = ['Needs', 'Belonging', 'Fulfillment', 'Accomplishment', 'Safety', 'Score']\n",
    "\n",
    "X = df[features]\n",
    "y = df['Outcome']\n",
    "\n",
    "print(X)\n",
    "print(y)"
   ]
  },
  {
   "cell_type": "code",
   "execution_count": 6,
   "metadata": {},
   "outputs": [
    {
     "data": {
      "text/plain": [
       "True"
      ]
     },
     "execution_count": 6,
     "metadata": {},
     "output_type": "execute_result"
    }
   ],
   "source": [
    "dtree = DecisionTreeClassifier()\n",
    "dtree = dtree.fit(X, y)\n",
    "data = tree.export_graphviz(dtree, out_file=None, feature_names=features,\n",
    "        filled=True, rounded=True,  \n",
    "        special_characters=True)  \n",
    "graph = pydotplus.graph_from_dot_data(data)\n",
    "graph.write_png('decisiontree2.png')\n"
   ]
  },
  {
   "cell_type": "code",
   "execution_count": 7,
   "metadata": {},
   "outputs": [],
   "source": [
    "# img=pltimg.imread('decisiontree2.png')\n",
    "# imgplot = plt.imshow(img)\n",
    "# plt.show()"
   ]
  },
  {
   "cell_type": "code",
   "execution_count": 8,
   "metadata": {},
   "outputs": [
    {
     "name": "stdout",
     "output_type": "stream",
     "text": [
      "[0]\n"
     ]
    }
   ],
   "source": [
    "print(dtree.predict([[0, 3, 5, 1, 5, 3]]))"
   ]
  },
  {
   "cell_type": "code",
   "execution_count": 9,
   "metadata": {},
   "outputs": [
    {
     "name": "stdout",
     "output_type": "stream",
     "text": [
      "[0]\n"
     ]
    }
   ],
   "source": [
    "print(dtree.predict([[1, 5, 5, 1, 5, 3]]))"
   ]
  },
  {
   "cell_type": "code",
   "execution_count": 10,
   "metadata": {},
   "outputs": [
    {
     "name": "stdout",
     "output_type": "stream",
     "text": [
      "[0]\n"
     ]
    }
   ],
   "source": [
    "print(dtree.predict([[1, 1, 3, 1, 5, 3]]))"
   ]
  },
  {
   "cell_type": "code",
   "execution_count": 11,
   "metadata": {},
   "outputs": [
    {
     "name": "stdout",
     "output_type": "stream",
     "text": [
      "[0]\n"
     ]
    }
   ],
   "source": [
    "print(dtree.predict([[1, 1, 1, 1, 3, 3]]))"
   ]
  },
  {
   "cell_type": "code",
   "execution_count": 12,
   "metadata": {},
   "outputs": [
    {
     "name": "stdout",
     "output_type": "stream",
     "text": [
      "[0]\n"
     ]
    }
   ],
   "source": [
    "print(dtree.predict([[0, 5, 5, 5, 5, 5]]))"
   ]
  },
  {
   "cell_type": "code",
   "execution_count": null,
   "metadata": {},
   "outputs": [],
   "source": []
  }
 ],
 "metadata": {
  "kernelspec": {
   "display_name": "Python 3",
   "language": "python",
   "name": "python3"
  },
  "language_info": {
   "codemirror_mode": {
    "name": "ipython",
    "version": 3
   },
   "file_extension": ".py",
   "mimetype": "text/x-python",
   "name": "python",
   "nbconvert_exporter": "python",
   "pygments_lexer": "ipython3",
   "version": "3.7.3"
  },
  "varInspector": {
   "cols": {
    "lenName": 16,
    "lenType": 16,
    "lenVar": 40
   },
   "kernels_config": {
    "python": {
     "delete_cmd_postfix": "",
     "delete_cmd_prefix": "del ",
     "library": "var_list.py",
     "varRefreshCmd": "print(var_dic_list())"
    },
    "r": {
     "delete_cmd_postfix": ") ",
     "delete_cmd_prefix": "rm(",
     "library": "var_list.r",
     "varRefreshCmd": "cat(var_dic_list()) "
    }
   },
   "types_to_exclude": [
    "module",
    "function",
    "builtin_function_or_method",
    "instance",
    "_Feature"
   ],
   "window_display": false
  }
 },
 "nbformat": 4,
 "nbformat_minor": 2
}
