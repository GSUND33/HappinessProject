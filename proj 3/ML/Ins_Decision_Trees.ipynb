{
 "cells": [
  {
   "cell_type": "code",
   "execution_count": 1,
   "metadata": {},
   "outputs": [],
   "source": [
    "# pip install pydotplus\n"
   ]
  },
  {
   "cell_type": "markdown",
   "metadata": {},
   "source": [
    "Import Necessary Libraries"
   ]
  },
  {
   "cell_type": "code",
   "execution_count": 2,
   "metadata": {},
   "outputs": [],
   "source": [
    "import pandas\n",
    "from sklearn import tree\n",
    "import pydotplus\n",
    "from sklearn.tree import DecisionTreeClassifier\n",
    "import matplotlib.pyplot as plt\n",
    "import matplotlib.image as pltimg"
   ]
  },
  {
   "cell_type": "markdown",
   "metadata": {},
   "source": [
    "Load Dataset"
   ]
  },
  {
   "cell_type": "code",
   "execution_count": 3,
   "metadata": {},
   "outputs": [
    {
     "name": "stdout",
     "output_type": "stream",
     "text": [
      "     Score  Health  Relationship  Beauty  Living  Support  Outcome\n",
      "0        1      10            10      10      10       10        4\n",
      "1        1      10            10      10      10        5        4\n",
      "2        1      10            10       5      10       10        4\n",
      "3        1      10             5      10      10       10        4\n",
      "4        1       5            10      10      10       10        4\n",
      "5        0      10            10      10      10       10        3\n",
      "6        0       1            10      10      10       10        2\n",
      "7        0      10             5      10      10       10        3\n",
      "8        0       1             5      10      10       10        2\n",
      "9        1      10            10      10       5        5        3\n",
      "10       1      10            10      10       5        1        3\n",
      "11       1      10            10      10       1       10        3\n",
      "12       1      10            10       5      10        5        3\n",
      "13       1      10            10       5      10        1        3\n",
      "14       1      10            10       5       5       10        3\n",
      "15       1      10            10       5       1       10        3\n",
      "16       1      10            10       1      10       10        3\n",
      "17       1      10            10       1      10        5        3\n",
      "18       1      10             5      10      10        5        3\n",
      "19       1      10             5      10      10        1        3\n",
      "20       1      10             5      10       5       10        3\n",
      "21       1      10             5      10       1       10        3\n",
      "22       1      10             5       5      10       10        3\n",
      "23       1      10             5       5      10        5        3\n",
      "24       1      10             5       1      10       10        3\n",
      "25       1      10             1       5      10       10        3\n",
      "26       1       5            10      10      10        5        3\n",
      "27       1       5            10      10       5       10        3\n",
      "28       1       5            10      10       5        5        3\n",
      "29       1       5            10      10       1       10        3\n",
      "..     ...     ...           ...     ...     ...      ...      ...\n",
      "277      0       5             5      10       5        1        0\n",
      "278      0       1             5      10       5        1        0\n",
      "279      0       5            10       5       5        1        0\n",
      "280      0       1            10       5       5        1        0\n",
      "281      0       5             5       5       5        1        0\n",
      "282      0       1             5       5       5        1        0\n",
      "283      0       5             1       5       5        1        0\n",
      "284      0       1             1       5       5        1        0\n",
      "285      0       5            10       1       5        1        0\n",
      "286      0       1            10       1       5        1        0\n",
      "287      0       5             5       1       5        1        0\n",
      "288      0       1             5       1       5        1        0\n",
      "289      0       5             1       1       5        1        0\n",
      "290      0       1             1       1       5        1        0\n",
      "291      0       5            10      10       1        1        0\n",
      "292      0       1            10      10       1        1        0\n",
      "293      0       5             5      10       1        1        0\n",
      "294      0       1             5      10       1        1        0\n",
      "295      0       5            10       5       1        1        0\n",
      "296      0       1            10       5       1        1        0\n",
      "297      0       5             5       5       1        1        0\n",
      "298      0       1             5       5       1        1        0\n",
      "299      0       5             1       5       1        1        0\n",
      "300      0       1             1       5       1        1        0\n",
      "301      0       5            10       1       1        1        0\n",
      "302      0       1            10       1       1        1        0\n",
      "303      0       5             5       1       1        1        0\n",
      "304      0       1             5       1       1        1        0\n",
      "305      0       5             1       1       1        1        0\n",
      "306      0       1             1       1       1        1        0\n",
      "\n",
      "[307 rows x 7 columns]\n"
     ]
    }
   ],
   "source": [
    "df = pandas.read_csv(\"mlds.csv\")\n",
    "\n",
    "print(df)"
   ]
  },
  {
   "cell_type": "code",
   "execution_count": 4,
   "metadata": {},
   "outputs": [],
   "source": [
    "import graphviz \n"
   ]
  },
  {
   "cell_type": "markdown",
   "metadata": {},
   "source": [
    "Define X,y"
   ]
  },
  {
   "cell_type": "code",
   "execution_count": 5,
   "metadata": {},
   "outputs": [
    {
     "name": "stdout",
     "output_type": "stream",
     "text": [
      "     Score  Health  Relationship  Beauty  Living  Support\n",
      "0        1      10            10      10      10       10\n",
      "1        1      10            10      10      10        5\n",
      "2        1      10            10       5      10       10\n",
      "3        1      10             5      10      10       10\n",
      "4        1       5            10      10      10       10\n",
      "5        0      10            10      10      10       10\n",
      "6        0       1            10      10      10       10\n",
      "7        0      10             5      10      10       10\n",
      "8        0       1             5      10      10       10\n",
      "9        1      10            10      10       5        5\n",
      "10       1      10            10      10       5        1\n",
      "11       1      10            10      10       1       10\n",
      "12       1      10            10       5      10        5\n",
      "13       1      10            10       5      10        1\n",
      "14       1      10            10       5       5       10\n",
      "15       1      10            10       5       1       10\n",
      "16       1      10            10       1      10       10\n",
      "17       1      10            10       1      10        5\n",
      "18       1      10             5      10      10        5\n",
      "19       1      10             5      10      10        1\n",
      "20       1      10             5      10       5       10\n",
      "21       1      10             5      10       1       10\n",
      "22       1      10             5       5      10       10\n",
      "23       1      10             5       5      10        5\n",
      "24       1      10             5       1      10       10\n",
      "25       1      10             1       5      10       10\n",
      "26       1       5            10      10      10        5\n",
      "27       1       5            10      10       5       10\n",
      "28       1       5            10      10       5        5\n",
      "29       1       5            10      10       1       10\n",
      "..     ...     ...           ...     ...     ...      ...\n",
      "277      0       5             5      10       5        1\n",
      "278      0       1             5      10       5        1\n",
      "279      0       5            10       5       5        1\n",
      "280      0       1            10       5       5        1\n",
      "281      0       5             5       5       5        1\n",
      "282      0       1             5       5       5        1\n",
      "283      0       5             1       5       5        1\n",
      "284      0       1             1       5       5        1\n",
      "285      0       5            10       1       5        1\n",
      "286      0       1            10       1       5        1\n",
      "287      0       5             5       1       5        1\n",
      "288      0       1             5       1       5        1\n",
      "289      0       5             1       1       5        1\n",
      "290      0       1             1       1       5        1\n",
      "291      0       5            10      10       1        1\n",
      "292      0       1            10      10       1        1\n",
      "293      0       5             5      10       1        1\n",
      "294      0       1             5      10       1        1\n",
      "295      0       5            10       5       1        1\n",
      "296      0       1            10       5       1        1\n",
      "297      0       5             5       5       1        1\n",
      "298      0       1             5       5       1        1\n",
      "299      0       5             1       5       1        1\n",
      "300      0       1             1       5       1        1\n",
      "301      0       5            10       1       1        1\n",
      "302      0       1            10       1       1        1\n",
      "303      0       5             5       1       1        1\n",
      "304      0       1             5       1       1        1\n",
      "305      0       5             1       1       1        1\n",
      "306      0       1             1       1       1        1\n",
      "\n",
      "[307 rows x 6 columns]\n",
      "0      4\n",
      "1      4\n",
      "2      4\n",
      "3      4\n",
      "4      4\n",
      "5      3\n",
      "6      2\n",
      "7      3\n",
      "8      2\n",
      "9      3\n",
      "10     3\n",
      "11     3\n",
      "12     3\n",
      "13     3\n",
      "14     3\n",
      "15     3\n",
      "16     3\n",
      "17     3\n",
      "18     3\n",
      "19     3\n",
      "20     3\n",
      "21     3\n",
      "22     3\n",
      "23     3\n",
      "24     3\n",
      "25     3\n",
      "26     3\n",
      "27     3\n",
      "28     3\n",
      "29     3\n",
      "      ..\n",
      "277    0\n",
      "278    0\n",
      "279    0\n",
      "280    0\n",
      "281    0\n",
      "282    0\n",
      "283    0\n",
      "284    0\n",
      "285    0\n",
      "286    0\n",
      "287    0\n",
      "288    0\n",
      "289    0\n",
      "290    0\n",
      "291    0\n",
      "292    0\n",
      "293    0\n",
      "294    0\n",
      "295    0\n",
      "296    0\n",
      "297    0\n",
      "298    0\n",
      "299    0\n",
      "300    0\n",
      "301    0\n",
      "302    0\n",
      "303    0\n",
      "304    0\n",
      "305    0\n",
      "306    0\n",
      "Name: Outcome, Length: 307, dtype: int64\n"
     ]
    }
   ],
   "source": [
    "features = ['Score', 'Health', 'Relationship', 'Beauty', 'Living', 'Support']\n",
    "\n",
    "X = df[features]\n",
    "y = df['Outcome']\n",
    "\n",
    "print(X)\n",
    "print(y)"
   ]
  },
  {
   "cell_type": "markdown",
   "metadata": {},
   "source": [
    "Fit the Model and Save Decision Tree Map Image"
   ]
  },
  {
   "cell_type": "code",
   "execution_count": 6,
   "metadata": {},
   "outputs": [
    {
     "data": {
      "text/plain": [
       "True"
      ]
     },
     "execution_count": 6,
     "metadata": {},
     "output_type": "execute_result"
    }
   ],
   "source": [
    "import pydotplus\n",
    "\n",
    "dtree = DecisionTreeClassifier()\n",
    "dtree = dtree.fit(X, y)\n",
    "data = tree.export_graphviz(dtree, out_file=None, feature_names=features,\n",
    "        filled=True, rounded=True,  \n",
    "        special_characters=True)  \n",
    "graph = pydotplus.graph_from_dot_data(data)\n",
    "graph.write_png('decisiontree.png')\n"
   ]
  },
  {
   "cell_type": "markdown",
   "metadata": {},
   "source": [
    "serialize model to a file called model.pkl in order later  \n",
    "with new unknown data so that we can predict the values later."
   ]
  },
  {
   "cell_type": "code",
   "execution_count": 7,
   "metadata": {},
   "outputs": [],
   "source": [
    "import pickle\n",
    "pickle.dump(dtree, open(\"model.pkl\",\"wb\"))"
   ]
  },
  {
   "cell_type": "code",
   "execution_count": 8,
   "metadata": {},
   "outputs": [
    {
     "data": {
      "image/png": "[encoded data removed]",
      "text/plain": [
       "<Figure size 432x288 with 1 Axes>"
      ]
     },
     "metadata": {
      "needs_background": "light"
     },
     "output_type": "display_data"
    }
   ],
   "source": [
    "img=pltimg.imread('decisiontree.png')\n",
    "imgplot = plt.imshow(img)\n",
    "plt.show()"
   ]
  },
  {
   "cell_type": "markdown",
   "metadata": {},
   "source": [
    "test runs"
   ]
  },
  {
   "cell_type": "code",
   "execution_count": 13,
   "metadata": {},
   "outputs": [
    {
     "name": "stdout",
     "output_type": "stream",
     "text": [
      "[4]\n"
     ]
    }
   ],
   "source": [
    "print(dtree.predict([[1, 2, 8, 8, 8, 8]]))\n",
    "\n",
    "#Score  Health  Relationship  Beauty  Living  Support  \n",
    "#1       4        8          8       8       4"
   ]
  },
  {
   "cell_type": "code",
   "execution_count": 14,
   "metadata": {},
   "outputs": [
    {
     "name": "stdout",
     "output_type": "stream",
     "text": [
      "[1]\n"
     ]
    }
   ],
   "source": [
    "print(dtree.predict([[1, 5, 5, 1, 5, 3]]))"
   ]
  },
  {
   "cell_type": "code",
   "execution_count": 11,
   "metadata": {},
   "outputs": [
    {
     "name": "stdout",
     "output_type": "stream",
     "text": [
      "[1]\n"
     ]
    }
   ],
   "source": [
    "print(dtree.predict([[1, 1, 3, 1, 5, 3]]))"
   ]
  },
  {
   "cell_type": "code",
   "execution_count": 12,
   "metadata": {},
   "outputs": [
    {
     "name": "stdout",
     "output_type": "stream",
     "text": [
      "[1]\n"
     ]
    }
   ],
   "source": [
    "print(dtree.predict([[1, 1, 1, 1, 3, 3]]))"
   ]
  },
  {
   "cell_type": "code",
   "execution_count": 13,
   "metadata": {},
   "outputs": [
    {
     "name": "stdout",
     "output_type": "stream",
     "text": [
      "[0]\n"
     ]
    }
   ],
   "source": [
    "print(dtree.predict([[0, 5, 5, 5, 5, 5]]))"
   ]
  },
  {
   "cell_type": "code",
   "execution_count": null,
   "metadata": {},
   "outputs": [],
   "source": []
  }
 ],
 "metadata": {
  "kernelspec": {
   "display_name": "Python 3",
   "language": "python",
   "name": "python3"
  },
  "language_info": {
   "codemirror_mode": {
    "name": "ipython",
    "version": 3
   },
   "file_extension": ".py",
   "mimetype": "text/x-python",
   "name": "python",
   "nbconvert_exporter": "python",
   "pygments_lexer": "ipython3",
   "version": "3.7.3"
  },
  "varInspector": {
   "cols": {
    "lenName": 16,
    "lenType": 16,
    "lenVar": 40
   },
   "kernels_config": {
    "python": {
     "delete_cmd_postfix": "",
     "delete_cmd_prefix": "del ",
     "library": "var_list.py",
     "varRefreshCmd": "print(var_dic_list())"
    },
    "r": {
     "delete_cmd_postfix": ") ",
     "delete_cmd_prefix": "rm(",
     "library": "var_list.r",
     "varRefreshCmd": "cat(var_dic_list()) "
    }
   },
   "types_to_exclude": [
    "module",
    "function",
    "builtin_function_or_method",
    "instance",
    "_Feature"
   ],
   "window_display": false
  }
 },
 "nbformat": 4,
 "nbformat_minor": 2
}
