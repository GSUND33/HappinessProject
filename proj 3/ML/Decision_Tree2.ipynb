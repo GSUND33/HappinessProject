{
 "cells": [
  {
   "cell_type": "code",
   "execution_count": 1,
   "metadata": {},
   "outputs": [],
   "source": [
    "# pip install pydotplus\n"
   ]
  },
  {
   "cell_type": "code",
   "execution_count": 2,
   "metadata": {},
   "outputs": [],
   "source": [
    "import pandas\n",
    "from sklearn import tree\n",
    "import graphviz \n",
    "import pydotplus\n",
    "from sklearn.tree import DecisionTreeClassifier\n",
    "import matplotlib.pyplot as plt\n",
    "import matplotlib.image as pltim"
   ]
  },
  {
   "cell_type": "code",
   "execution_count": 3,
   "metadata": {},
   "outputs": [
    {
     "name": "stdout",
     "output_type": "stream",
     "text": [
      "   Score        Needs    Belonging  Fulfillment Acomplishment       Safety  \\\n",
      "0     <5          Yes          Yes          NaN           NaN          Yes   \n",
      "1     <5          Yes          Yes          NaN           NaN  Complicated   \n",
      "2     <5          Yes          Yes          NaN           NaN           No   \n",
      "3     <5          Yes  Complicated          NaN           NaN          Yes   \n",
      "4     <5          Yes  Complicated          NaN           NaN  Complicated   \n",
      "5     <5          Yes  Complicated          NaN           NaN           No   \n",
      "6     <5          Yes           No          NaN           NaN          Yes   \n",
      "7     <5          Yes           No          NaN           NaN  Complicated   \n",
      "8     <5          Yes           No          NaN           NaN           No   \n",
      "9     <5  Complicated          Yes          NaN           NaN          Yes   \n",
      "10    <5  Complicated          Yes          NaN           NaN  Complicated   \n",
      "11    <5  Complicated          Yes          NaN           NaN           No   \n",
      "12    <5  Complicated  Complicated          NaN           NaN          Yes   \n",
      "13    <5  Complicated  Complicated          NaN           NaN  Complicated   \n",
      "14    <5  Complicated  Complicated          NaN           NaN           No   \n",
      "15    <5  Complicated           No          NaN           NaN          Yes   \n",
      "16    <5  Complicated           No          NaN           NaN  Complicated   \n",
      "17    <5  Complicated           No          NaN           NaN           No   \n",
      "18    <5           No          Yes          NaN           NaN          Yes   \n",
      "19    <5           No          Yes          NaN           NaN  Complicated   \n",
      "20    <5           No          Yes          NaN           NaN           No   \n",
      "21    <5           No  Complicated          NaN           NaN          Yes   \n",
      "22    <5           No  Complicated          NaN           NaN  Complicated   \n",
      "23    <5           No  Complicated          NaN           NaN           No   \n",
      "24    <5           No           No          NaN           NaN          Yes   \n",
      "25    <5           No           No          NaN           NaN  Complicated   \n",
      "26    <5           No           No          NaN           NaN           No   \n",
      "27    >4          NaN          Yes          Yes           Yes          NaN   \n",
      "28    >4          NaN          Yes          Yes   Complicated          NaN   \n",
      "29    >4          NaN          Yes          Yes            No          NaN   \n",
      "30    >4          NaN          Yes  Complicated           Yes          NaN   \n",
      "31    >4          NaN          Yes  Complicated   Complicated          NaN   \n",
      "32    >4          NaN          Yes  Complicated            No          NaN   \n",
      "33    >4          NaN          Yes           No           Yes          NaN   \n",
      "34    >4          NaN          Yes           No   Complicated          NaN   \n",
      "35    >4          NaN          Yes           No            No          NaN   \n",
      "36    >4          NaN  Complicated          Yes           Yes          NaN   \n",
      "37    >4          NaN  Complicated          Yes   Complicated          NaN   \n",
      "38    >4          NaN  Complicated          Yes            No          NaN   \n",
      "39    >4          NaN  Complicated  Complicated           Yes          NaN   \n",
      "40    >4          NaN  Complicated  Complicated   Complicated          NaN   \n",
      "41    >4          NaN  Complicated  Complicated            No          NaN   \n",
      "42    >4          NaN  Complicated           No           Yes          NaN   \n",
      "43    >4          NaN  Complicated           No   Complicated          NaN   \n",
      "44    >4          NaN  Complicated           No            No          NaN   \n",
      "45    >4          NaN           No          Yes           Yes          NaN   \n",
      "46    >4          NaN           No          Yes   Complicated          NaN   \n",
      "47    >4          NaN           No          Yes            No          NaN   \n",
      "48    >4          NaN           No  Complicated           Yes          NaN   \n",
      "49    >4          NaN           No  Complicated   Complicated          NaN   \n",
      "50    >4          NaN           No  Complicated            No          NaN   \n",
      "51    >4          NaN           No           No           Yes          NaN   \n",
      "52    >4          NaN           No           No   Complicated          NaN   \n",
      "53    >4          NaN           No           No            No          NaN   \n",
      "\n",
      "          Outcome  Unnamed: 7  Unnamed: 8 Unnamed: 9  \n",
      "0      Very Happy         NaN         NaN        NaN  \n",
      "1       Not Happy         NaN         NaN        NaN  \n",
      "2       Not Happy         NaN         NaN        NaN  \n",
      "3       Not Happy         NaN         NaN        NaN  \n",
      "4       Not Happy         NaN         NaN        NaN  \n",
      "5       Not Happy         NaN         NaN        NaN  \n",
      "6       Not Happy         NaN         NaN        NaN  \n",
      "7       Not Happy         NaN         NaN        NaN  \n",
      "8       Not Happy         NaN         NaN        NaN  \n",
      "9           Happy         NaN         NaN        NaN  \n",
      "10      Not Happy         NaN         NaN        NaN  \n",
      "11      Not Happy         NaN         NaN        NaN  \n",
      "12      Not Happy         NaN         NaN        NaN  \n",
      "13      Not Happy         NaN         NaN        NaN  \n",
      "14      Not Happy         NaN         NaN        NaN  \n",
      "15      Not Happy         NaN         NaN        NaN  \n",
      "16      Not Happy         NaN         NaN        NaN  \n",
      "17      Not Happy         NaN         NaN        NaN  \n",
      "18  Not Too Happy         NaN         NaN        NaN  \n",
      "19  Not Too Happy         NaN         NaN        NaN  \n",
      "20  Not Too Happy         NaN         NaN        NaN  \n",
      "21      Not Happy         NaN         NaN        NaN  \n",
      "22      Not Happy         NaN         NaN        NaN  \n",
      "23      Not Happy         NaN         NaN        NaN  \n",
      "24      Not Happy         NaN         NaN        NaN  \n",
      "25      Not Happy         NaN         NaN        NaN  \n",
      "26      Not Happy         NaN         NaN        NaN  \n",
      "27     Very Happy         NaN         NaN        NaN  \n",
      "28  Not Too Happy         NaN         NaN        NaN  \n",
      "29      Not Happy         NaN         NaN        NaN  \n",
      "30  Not Too Happy         NaN         NaN        NaN  \n",
      "31      Not Happy         NaN         NaN        NaN  \n",
      "32      Not Happy         NaN         NaN        NaN  \n",
      "33  Not Too Happy         NaN         NaN        NaN  \n",
      "34      Not Happy         NaN         NaN        NaN  \n",
      "35      Not Happy         NaN         NaN        NaN  \n",
      "36  Not Too Happy         NaN         NaN        NaN  \n",
      "37      Not Happy         NaN         NaN        NaN  \n",
      "38      Not Happy         NaN         NaN        NaN  \n",
      "39  Not Too Happy         NaN         NaN        NaN  \n",
      "40  Not Too Happy         NaN         NaN        NaN  \n",
      "41  Not Too Happy         NaN         NaN        NaN  \n",
      "42          Happy         NaN         NaN        NaN  \n",
      "43  Not Too Happy         NaN         NaN        NaN  \n",
      "44  Not Too Happy         NaN         NaN        NaN  \n",
      "45     Very Happy         NaN         NaN        NaN  \n",
      "46  Not Too Happy         NaN         NaN          N  \n",
      "47  Not Too Happy         NaN         NaN        NaN  \n",
      "48  Not Too Happy         NaN         NaN        NaN  \n",
      "49  Not Too Happy         NaN         NaN        NaN  \n",
      "50  Not Too Happy         NaN         NaN        NaN  \n",
      "51  Not Too Happy         NaN         NaN        NaN  \n",
      "52  Not Too Happy         NaN         NaN        NaN  \n",
      "53  Not Too Happy         NaN         NaN        NaN  \n"
     ]
    }
   ],
   "source": [
    "df = pandas.read_csv(\"mldsx-hierarchy.csv\")\n",
    "\n",
    "print(df)"
   ]
  },
  {
   "cell_type": "code",
   "execution_count": 4,
   "metadata": {},
   "outputs": [
    {
     "name": "stdout",
     "output_type": "stream",
     "text": [
      "   Score        Needs    Belonging  Fulfillment Acomplishment       Safety  \\\n",
      "0     <5          Yes          Yes            0             0          Yes   \n",
      "1     <5          Yes          Yes            0             0  Complicated   \n",
      "2     <5          Yes          Yes            0             0           No   \n",
      "3     <5          Yes  Complicated            0             0          Yes   \n",
      "4     <5          Yes  Complicated            0             0  Complicated   \n",
      "5     <5          Yes  Complicated            0             0           No   \n",
      "6     <5          Yes           No            0             0          Yes   \n",
      "7     <5          Yes           No            0             0  Complicated   \n",
      "8     <5          Yes           No            0             0           No   \n",
      "9     <5  Complicated          Yes            0             0          Yes   \n",
      "10    <5  Complicated          Yes            0             0  Complicated   \n",
      "11    <5  Complicated          Yes            0             0           No   \n",
      "12    <5  Complicated  Complicated            0             0          Yes   \n",
      "13    <5  Complicated  Complicated            0             0  Complicated   \n",
      "14    <5  Complicated  Complicated            0             0           No   \n",
      "15    <5  Complicated           No            0             0          Yes   \n",
      "16    <5  Complicated           No            0             0  Complicated   \n",
      "17    <5  Complicated           No            0             0           No   \n",
      "18    <5           No          Yes            0             0          Yes   \n",
      "19    <5           No          Yes            0             0  Complicated   \n",
      "20    <5           No          Yes            0             0           No   \n",
      "21    <5           No  Complicated            0             0          Yes   \n",
      "22    <5           No  Complicated            0             0  Complicated   \n",
      "23    <5           No  Complicated            0             0           No   \n",
      "24    <5           No           No            0             0          Yes   \n",
      "25    <5           No           No            0             0  Complicated   \n",
      "26    <5           No           No            0             0           No   \n",
      "27    >4            0          Yes          Yes           Yes            0   \n",
      "28    >4            0          Yes          Yes   Complicated            0   \n",
      "29    >4            0          Yes          Yes            No            0   \n",
      "30    >4            0          Yes  Complicated           Yes            0   \n",
      "31    >4            0          Yes  Complicated   Complicated            0   \n",
      "32    >4            0          Yes  Complicated            No            0   \n",
      "33    >4            0          Yes           No           Yes            0   \n",
      "34    >4            0          Yes           No   Complicated            0   \n",
      "35    >4            0          Yes           No            No            0   \n",
      "36    >4            0  Complicated          Yes           Yes            0   \n",
      "37    >4            0  Complicated          Yes   Complicated            0   \n",
      "38    >4            0  Complicated          Yes            No            0   \n",
      "39    >4            0  Complicated  Complicated           Yes            0   \n",
      "40    >4            0  Complicated  Complicated   Complicated            0   \n",
      "41    >4            0  Complicated  Complicated            No            0   \n",
      "42    >4            0  Complicated           No           Yes            0   \n",
      "43    >4            0  Complicated           No   Complicated            0   \n",
      "44    >4            0  Complicated           No            No            0   \n",
      "45    >4            0           No          Yes           Yes            0   \n",
      "46    >4            0           No          Yes   Complicated            0   \n",
      "47    >4            0           No          Yes            No            0   \n",
      "48    >4            0           No  Complicated           Yes            0   \n",
      "49    >4            0           No  Complicated   Complicated            0   \n",
      "50    >4            0           No  Complicated            No            0   \n",
      "51    >4            0           No           No           Yes            0   \n",
      "52    >4            0           No           No   Complicated            0   \n",
      "53    >4            0           No           No            No            0   \n",
      "\n",
      "          Outcome  Unnamed: 7  Unnamed: 8 Unnamed: 9  \n",
      "0      Very Happy         0.0         0.0          0  \n",
      "1       Not Happy         0.0         0.0          0  \n",
      "2       Not Happy         0.0         0.0          0  \n",
      "3       Not Happy         0.0         0.0          0  \n",
      "4       Not Happy         0.0         0.0          0  \n",
      "5       Not Happy         0.0         0.0          0  \n",
      "6       Not Happy         0.0         0.0          0  \n",
      "7       Not Happy         0.0         0.0          0  \n",
      "8       Not Happy         0.0         0.0          0  \n",
      "9           Happy         0.0         0.0          0  \n",
      "10      Not Happy         0.0         0.0          0  \n",
      "11      Not Happy         0.0         0.0          0  \n",
      "12      Not Happy         0.0         0.0          0  \n",
      "13      Not Happy         0.0         0.0          0  \n",
      "14      Not Happy         0.0         0.0          0  \n",
      "15      Not Happy         0.0         0.0          0  \n",
      "16      Not Happy         0.0         0.0          0  \n",
      "17      Not Happy         0.0         0.0          0  \n",
      "18  Not Too Happy         0.0         0.0          0  \n",
      "19  Not Too Happy         0.0         0.0          0  \n",
      "20  Not Too Happy         0.0         0.0          0  \n",
      "21      Not Happy         0.0         0.0          0  \n",
      "22      Not Happy         0.0         0.0          0  \n",
      "23      Not Happy         0.0         0.0          0  \n",
      "24      Not Happy         0.0         0.0          0  \n",
      "25      Not Happy         0.0         0.0          0  \n",
      "26      Not Happy         0.0         0.0          0  \n",
      "27     Very Happy         0.0         0.0          0  \n",
      "28  Not Too Happy         0.0         0.0          0  \n",
      "29      Not Happy         0.0         0.0          0  \n",
      "30  Not Too Happy         0.0         0.0          0  \n",
      "31      Not Happy         0.0         0.0          0  \n",
      "32      Not Happy         0.0         0.0          0  \n",
      "33  Not Too Happy         0.0         0.0          0  \n",
      "34      Not Happy         0.0         0.0          0  \n",
      "35      Not Happy         0.0         0.0          0  \n",
      "36  Not Too Happy         0.0         0.0          0  \n",
      "37      Not Happy         0.0         0.0          0  \n",
      "38      Not Happy         0.0         0.0          0  \n",
      "39  Not Too Happy         0.0         0.0          0  \n",
      "40  Not Too Happy         0.0         0.0          0  \n",
      "41  Not Too Happy         0.0         0.0          0  \n",
      "42          Happy         0.0         0.0          0  \n",
      "43  Not Too Happy         0.0         0.0          0  \n",
      "44  Not Too Happy         0.0         0.0          0  \n",
      "45     Very Happy         0.0         0.0          0  \n",
      "46  Not Too Happy         0.0         0.0          N  \n",
      "47  Not Too Happy         0.0         0.0          0  \n",
      "48  Not Too Happy         0.0         0.0          0  \n",
      "49  Not Too Happy         0.0         0.0          0  \n",
      "50  Not Too Happy         0.0         0.0          0  \n",
      "51  Not Too Happy         0.0         0.0          0  \n",
      "52  Not Too Happy         0.0         0.0          0  \n",
      "53  Not Too Happy         0.0         0.0          0  \n"
     ]
    }
   ],
   "source": [
    "df=df.fillna(0)\n",
    "print(df)"
   ]
  },
  {
   "cell_type": "code",
   "execution_count": 5,
   "metadata": {},
   "outputs": [
    {
     "ename": "KeyError",
     "evalue": "\"['Accomplishment'] not in index\"",
     "output_type": "error",
     "traceback": [
      "\u001b[0;31m---------------------------------------------------------------------------\u001b[0m",
      "\u001b[0;31mKeyError\u001b[0m                                  Traceback (most recent call last)",
      "\u001b[0;32m<ipython-input-5-3bd792288c76>\u001b[0m in \u001b[0;36m<module>\u001b[0;34m\u001b[0m\n\u001b[1;32m      1\u001b[0m \u001b[0mfeatures\u001b[0m \u001b[0;34m=\u001b[0m \u001b[0;34m[\u001b[0m\u001b[0;34m'Needs'\u001b[0m\u001b[0;34m,\u001b[0m \u001b[0;34m'Belonging'\u001b[0m\u001b[0;34m,\u001b[0m \u001b[0;34m'Fulfillment'\u001b[0m\u001b[0;34m,\u001b[0m \u001b[0;34m'Accomplishment'\u001b[0m\u001b[0;34m,\u001b[0m \u001b[0;34m'Safety'\u001b[0m\u001b[0;34m,\u001b[0m \u001b[0;34m'Score'\u001b[0m\u001b[0;34m]\u001b[0m\u001b[0;34m\u001b[0m\u001b[0;34m\u001b[0m\u001b[0m\n\u001b[1;32m      2\u001b[0m \u001b[0;34m\u001b[0m\u001b[0m\n\u001b[0;32m----> 3\u001b[0;31m \u001b[0mX\u001b[0m \u001b[0;34m=\u001b[0m \u001b[0mdf\u001b[0m\u001b[0;34m[\u001b[0m\u001b[0mfeatures\u001b[0m\u001b[0;34m]\u001b[0m\u001b[0;34m\u001b[0m\u001b[0;34m\u001b[0m\u001b[0m\n\u001b[0m\u001b[1;32m      4\u001b[0m \u001b[0my\u001b[0m \u001b[0;34m=\u001b[0m \u001b[0mdf\u001b[0m\u001b[0;34m[\u001b[0m\u001b[0;34m'Outcome'\u001b[0m\u001b[0;34m]\u001b[0m\u001b[0;34m\u001b[0m\u001b[0;34m\u001b[0m\u001b[0m\n\u001b[1;32m      5\u001b[0m \u001b[0;34m\u001b[0m\u001b[0m\n",
      "\u001b[0;32m/Applications/anaconda3/lib/python3.7/site-packages/pandas/core/frame.py\u001b[0m in \u001b[0;36m__getitem__\u001b[0;34m(self, key)\u001b[0m\n\u001b[1;32m   2932\u001b[0m                 \u001b[0mkey\u001b[0m \u001b[0;34m=\u001b[0m \u001b[0mlist\u001b[0m\u001b[0;34m(\u001b[0m\u001b[0mkey\u001b[0m\u001b[0;34m)\u001b[0m\u001b[0;34m\u001b[0m\u001b[0;34m\u001b[0m\u001b[0m\n\u001b[1;32m   2933\u001b[0m             indexer = self.loc._convert_to_indexer(key, axis=1,\n\u001b[0;32m-> 2934\u001b[0;31m                                                    raise_missing=True)\n\u001b[0m\u001b[1;32m   2935\u001b[0m \u001b[0;34m\u001b[0m\u001b[0m\n\u001b[1;32m   2936\u001b[0m         \u001b[0;31m# take() does not accept boolean indexers\u001b[0m\u001b[0;34m\u001b[0m\u001b[0;34m\u001b[0m\u001b[0;34m\u001b[0m\u001b[0m\n",
      "\u001b[0;32m/Applications/anaconda3/lib/python3.7/site-packages/pandas/core/indexing.py\u001b[0m in \u001b[0;36m_convert_to_indexer\u001b[0;34m(self, obj, axis, is_setter, raise_missing)\u001b[0m\n\u001b[1;32m   1352\u001b[0m                 kwargs = {'raise_missing': True if is_setter else\n\u001b[1;32m   1353\u001b[0m                           raise_missing}\n\u001b[0;32m-> 1354\u001b[0;31m                 \u001b[0;32mreturn\u001b[0m \u001b[0mself\u001b[0m\u001b[0;34m.\u001b[0m\u001b[0m_get_listlike_indexer\u001b[0m\u001b[0;34m(\u001b[0m\u001b[0mobj\u001b[0m\u001b[0;34m,\u001b[0m \u001b[0maxis\u001b[0m\u001b[0;34m,\u001b[0m \u001b[0;34m**\u001b[0m\u001b[0mkwargs\u001b[0m\u001b[0;34m)\u001b[0m\u001b[0;34m[\u001b[0m\u001b[0;36m1\u001b[0m\u001b[0;34m]\u001b[0m\u001b[0;34m\u001b[0m\u001b[0;34m\u001b[0m\u001b[0m\n\u001b[0m\u001b[1;32m   1355\u001b[0m         \u001b[0;32melse\u001b[0m\u001b[0;34m:\u001b[0m\u001b[0;34m\u001b[0m\u001b[0;34m\u001b[0m\u001b[0m\n\u001b[1;32m   1356\u001b[0m             \u001b[0;32mtry\u001b[0m\u001b[0;34m:\u001b[0m\u001b[0;34m\u001b[0m\u001b[0;34m\u001b[0m\u001b[0m\n",
      "\u001b[0;32m/Applications/anaconda3/lib/python3.7/site-packages/pandas/core/indexing.py\u001b[0m in \u001b[0;36m_get_listlike_indexer\u001b[0;34m(self, key, axis, raise_missing)\u001b[0m\n\u001b[1;32m   1159\u001b[0m         self._validate_read_indexer(keyarr, indexer,\n\u001b[1;32m   1160\u001b[0m                                     \u001b[0mo\u001b[0m\u001b[0;34m.\u001b[0m\u001b[0m_get_axis_number\u001b[0m\u001b[0;34m(\u001b[0m\u001b[0maxis\u001b[0m\u001b[0;34m)\u001b[0m\u001b[0;34m,\u001b[0m\u001b[0;34m\u001b[0m\u001b[0;34m\u001b[0m\u001b[0m\n\u001b[0;32m-> 1161\u001b[0;31m                                     raise_missing=raise_missing)\n\u001b[0m\u001b[1;32m   1162\u001b[0m         \u001b[0;32mreturn\u001b[0m \u001b[0mkeyarr\u001b[0m\u001b[0;34m,\u001b[0m \u001b[0mindexer\u001b[0m\u001b[0;34m\u001b[0m\u001b[0;34m\u001b[0m\u001b[0m\n\u001b[1;32m   1163\u001b[0m \u001b[0;34m\u001b[0m\u001b[0m\n",
      "\u001b[0;32m/Applications/anaconda3/lib/python3.7/site-packages/pandas/core/indexing.py\u001b[0m in \u001b[0;36m_validate_read_indexer\u001b[0;34m(self, key, indexer, axis, raise_missing)\u001b[0m\n\u001b[1;32m   1250\u001b[0m             \u001b[0;32mif\u001b[0m \u001b[0;32mnot\u001b[0m\u001b[0;34m(\u001b[0m\u001b[0mself\u001b[0m\u001b[0;34m.\u001b[0m\u001b[0mname\u001b[0m \u001b[0;34m==\u001b[0m \u001b[0;34m'loc'\u001b[0m \u001b[0;32mand\u001b[0m \u001b[0;32mnot\u001b[0m \u001b[0mraise_missing\u001b[0m\u001b[0;34m)\u001b[0m\u001b[0;34m:\u001b[0m\u001b[0;34m\u001b[0m\u001b[0;34m\u001b[0m\u001b[0m\n\u001b[1;32m   1251\u001b[0m                 \u001b[0mnot_found\u001b[0m \u001b[0;34m=\u001b[0m \u001b[0mlist\u001b[0m\u001b[0;34m(\u001b[0m\u001b[0mset\u001b[0m\u001b[0;34m(\u001b[0m\u001b[0mkey\u001b[0m\u001b[0;34m)\u001b[0m \u001b[0;34m-\u001b[0m \u001b[0mset\u001b[0m\u001b[0;34m(\u001b[0m\u001b[0max\u001b[0m\u001b[0;34m)\u001b[0m\u001b[0;34m)\u001b[0m\u001b[0;34m\u001b[0m\u001b[0;34m\u001b[0m\u001b[0m\n\u001b[0;32m-> 1252\u001b[0;31m                 \u001b[0;32mraise\u001b[0m \u001b[0mKeyError\u001b[0m\u001b[0;34m(\u001b[0m\u001b[0;34m\"{} not in index\"\u001b[0m\u001b[0;34m.\u001b[0m\u001b[0mformat\u001b[0m\u001b[0;34m(\u001b[0m\u001b[0mnot_found\u001b[0m\u001b[0;34m)\u001b[0m\u001b[0;34m)\u001b[0m\u001b[0;34m\u001b[0m\u001b[0;34m\u001b[0m\u001b[0m\n\u001b[0m\u001b[1;32m   1253\u001b[0m \u001b[0;34m\u001b[0m\u001b[0m\n\u001b[1;32m   1254\u001b[0m             \u001b[0;31m# we skip the warning on Categorical/Interval\u001b[0m\u001b[0;34m\u001b[0m\u001b[0;34m\u001b[0m\u001b[0;34m\u001b[0m\u001b[0m\n",
      "\u001b[0;31mKeyError\u001b[0m: \"['Accomplishment'] not in index\""
     ]
    }
   ],
   "source": [
    "features = ['Needs', 'Belonging', 'Fulfillment', 'Accomplishment', 'Safety', 'Score']\n",
    "\n",
    "X = df[features]\n",
    "y = df['Outcome']\n",
    "\n",
    "print(X)\n",
    "print(y)"
   ]
  },
  {
   "cell_type": "code",
   "execution_count": null,
   "metadata": {},
   "outputs": [],
   "source": [
    "dtree = DecisionTreeClassifier()\n",
    "dtree = dtree.fit(X, y)\n",
    "data = tree.export_graphviz(dtree, out_file=None, feature_names=features,\n",
    "        filled=True, rounded=True,  \n",
    "        special_characters=True)  \n",
    "graph = pydotplus.graph_from_dot_data(data)\n",
    "graph.write_png('decisiontree2.png')\n"
   ]
  },
  {
   "cell_type": "code",
   "execution_count": null,
   "metadata": {},
   "outputs": [],
   "source": [
    "# img=pltimg.imread('decisiontree2.png')\n",
    "# imgplot = plt.imshow(img)\n",
    "# plt.show()"
   ]
  },
  {
   "cell_type": "code",
   "execution_count": null,
   "metadata": {},
   "outputs": [],
   "source": [
    "print(dtree.predict([[5, 3, , , 5, 0]]))"
   ]
  },
  {
   "cell_type": "code",
   "execution_count": null,
   "metadata": {},
   "outputs": [],
   "source": [
    "print(dtree.predict([[0, 5, 5, 1, 0, 1]]))"
   ]
  },
  {
   "cell_type": "code",
   "execution_count": null,
   "metadata": {},
   "outputs": [],
   "source": [
    "print(dtree.predict([[0, 1, 3, 1, 0, 1]]))"
   ]
  },
  {
   "cell_type": "code",
   "execution_count": null,
   "metadata": {},
   "outputs": [],
   "source": [
    "print(dtree.predict([[0, 1, 1, 1, 0, 1]]))"
   ]
  },
  {
   "cell_type": "code",
   "execution_count": null,
   "metadata": {},
   "outputs": [],
   "source": [
    "print(dtree.predict([[0, 5, 5, 5, 5, ]]))"
   ]
  },
  {
   "cell_type": "code",
   "execution_count": null,
   "metadata": {},
   "outputs": [],
   "source": []
  }
 ],
 "metadata": {
  "kernelspec": {
   "display_name": "Python 3",
   "language": "python",
   "name": "python3"
  },
  "language_info": {
   "codemirror_mode": {
    "name": "ipython",
    "version": 3
   },
   "file_extension": ".py",
   "mimetype": "text/x-python",
   "name": "python",
   "nbconvert_exporter": "python",
   "pygments_lexer": "ipython3",
   "version": "3.7.3"
  },
  "varInspector": {
   "cols": {
    "lenName": 16,
    "lenType": 16,
    "lenVar": 40
   },
   "kernels_config": {
    "python": {
     "delete_cmd_postfix": "",
     "delete_cmd_prefix": "del ",
     "library": "var_list.py",
     "varRefreshCmd": "print(var_dic_list())"
    },
    "r": {
     "delete_cmd_postfix": ") ",
     "delete_cmd_prefix": "rm(",
     "library": "var_list.r",
     "varRefreshCmd": "cat(var_dic_list()) "
    }
   },
   "types_to_exclude": [
    "module",
    "function",
    "builtin_function_or_method",
    "instance",
    "_Feature"
   ],
   "window_display": false
  }
 },
 "nbformat": 4,
 "nbformat_minor": 2
}
